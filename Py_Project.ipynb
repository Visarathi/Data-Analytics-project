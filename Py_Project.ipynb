{
 "cells": [
  {
   "cell_type": "code",
   "execution_count": 2,
   "metadata": {},
   "outputs": [],
   "source": [
    "import pandas as pd"
   ]
  },
  {
   "cell_type": "code",
   "execution_count": 17,
   "metadata": {},
   "outputs": [
    {
     "data": {
      "text/html": [
       "<div>\n",
       "<style scoped>\n",
       "    .dataframe tbody tr th:only-of-type {\n",
       "        vertical-align: middle;\n",
       "    }\n",
       "\n",
       "    .dataframe tbody tr th {\n",
       "        vertical-align: top;\n",
       "    }\n",
       "\n",
       "    .dataframe thead th {\n",
       "        text-align: right;\n",
       "    }\n",
       "</style>\n",
       "<table border=\"1\" class=\"dataframe\">\n",
       "  <thead>\n",
       "    <tr style=\"text-align: right;\">\n",
       "      <th></th>\n",
       "      <th>PassengerId</th>\n",
       "      <th>Survived</th>\n",
       "      <th>Pclass</th>\n",
       "      <th>Name</th>\n",
       "      <th>Sex</th>\n",
       "      <th>Age</th>\n",
       "      <th>SibSp</th>\n",
       "      <th>Parch</th>\n",
       "      <th>Ticket</th>\n",
       "      <th>Fare</th>\n",
       "      <th>Cabin</th>\n",
       "      <th>Embarked</th>\n",
       "    </tr>\n",
       "  </thead>\n",
       "  <tbody>\n",
       "    <tr>\n",
       "      <th>0</th>\n",
       "      <td>1</td>\n",
       "      <td>0</td>\n",
       "      <td>3</td>\n",
       "      <td>Braund, Mr. Owen Harris</td>\n",
       "      <td>male</td>\n",
       "      <td>22.0</td>\n",
       "      <td>1</td>\n",
       "      <td>0</td>\n",
       "      <td>A/5 21171</td>\n",
       "      <td>7.2500</td>\n",
       "      <td>NaN</td>\n",
       "      <td>S</td>\n",
       "    </tr>\n",
       "    <tr>\n",
       "      <th>1</th>\n",
       "      <td>2</td>\n",
       "      <td>1</td>\n",
       "      <td>1</td>\n",
       "      <td>Cumings, Mrs. John Bradley (Florence Briggs Th...</td>\n",
       "      <td>female</td>\n",
       "      <td>38.0</td>\n",
       "      <td>1</td>\n",
       "      <td>0</td>\n",
       "      <td>PC 17599</td>\n",
       "      <td>71.2833</td>\n",
       "      <td>C85</td>\n",
       "      <td>C</td>\n",
       "    </tr>\n",
       "    <tr>\n",
       "      <th>2</th>\n",
       "      <td>3</td>\n",
       "      <td>1</td>\n",
       "      <td>3</td>\n",
       "      <td>Heikkinen, Miss. Laina</td>\n",
       "      <td>female</td>\n",
       "      <td>26.0</td>\n",
       "      <td>0</td>\n",
       "      <td>0</td>\n",
       "      <td>STON/O2. 3101282</td>\n",
       "      <td>7.9250</td>\n",
       "      <td>NaN</td>\n",
       "      <td>S</td>\n",
       "    </tr>\n",
       "    <tr>\n",
       "      <th>3</th>\n",
       "      <td>4</td>\n",
       "      <td>1</td>\n",
       "      <td>1</td>\n",
       "      <td>Futrelle, Mrs. Jacques Heath (Lily May Peel)</td>\n",
       "      <td>female</td>\n",
       "      <td>35.0</td>\n",
       "      <td>1</td>\n",
       "      <td>0</td>\n",
       "      <td>113803</td>\n",
       "      <td>53.1000</td>\n",
       "      <td>C123</td>\n",
       "      <td>S</td>\n",
       "    </tr>\n",
       "    <tr>\n",
       "      <th>4</th>\n",
       "      <td>5</td>\n",
       "      <td>0</td>\n",
       "      <td>3</td>\n",
       "      <td>Allen, Mr. William Henry</td>\n",
       "      <td>male</td>\n",
       "      <td>35.0</td>\n",
       "      <td>0</td>\n",
       "      <td>0</td>\n",
       "      <td>373450</td>\n",
       "      <td>8.0500</td>\n",
       "      <td>NaN</td>\n",
       "      <td>S</td>\n",
       "    </tr>\n",
       "  </tbody>\n",
       "</table>\n",
       "</div>"
      ],
      "text/plain": [
       "   PassengerId  Survived  Pclass  \\\n",
       "0            1         0       3   \n",
       "1            2         1       1   \n",
       "2            3         1       3   \n",
       "3            4         1       1   \n",
       "4            5         0       3   \n",
       "\n",
       "                                                Name     Sex   Age  SibSp  \\\n",
       "0                            Braund, Mr. Owen Harris    male  22.0      1   \n",
       "1  Cumings, Mrs. John Bradley (Florence Briggs Th...  female  38.0      1   \n",
       "2                             Heikkinen, Miss. Laina  female  26.0      0   \n",
       "3       Futrelle, Mrs. Jacques Heath (Lily May Peel)  female  35.0      1   \n",
       "4                           Allen, Mr. William Henry    male  35.0      0   \n",
       "\n",
       "   Parch            Ticket     Fare Cabin Embarked  \n",
       "0      0         A/5 21171   7.2500   NaN        S  \n",
       "1      0          PC 17599  71.2833   C85        C  \n",
       "2      0  STON/O2. 3101282   7.9250   NaN        S  \n",
       "3      0            113803  53.1000  C123        S  \n",
       "4      0            373450   8.0500   NaN        S  "
      ]
     },
     "execution_count": 17,
     "metadata": {},
     "output_type": "execute_result"
    }
   ],
   "source": [
    "data = pd.read_csv(\"train (1).csv\")\n",
    "data.head()"
   ]
  },
  {
   "cell_type": "code",
   "execution_count": 18,
   "metadata": {},
   "outputs": [
    {
     "data": {
      "text/plain": [
       "(891, pandas.core.frame.DataFrame)"
      ]
     },
     "execution_count": 18,
     "metadata": {},
     "output_type": "execute_result"
    }
   ],
   "source": [
    "len(data), type(data)"
   ]
  },
  {
   "cell_type": "code",
   "execution_count": 24,
   "metadata": {},
   "outputs": [
    {
     "data": {
      "text/html": [
       "<div>\n",
       "<style scoped>\n",
       "    .dataframe tbody tr th:only-of-type {\n",
       "        vertical-align: middle;\n",
       "    }\n",
       "\n",
       "    .dataframe tbody tr th {\n",
       "        vertical-align: top;\n",
       "    }\n",
       "\n",
       "    .dataframe thead th {\n",
       "        text-align: right;\n",
       "    }\n",
       "</style>\n",
       "<table border=\"1\" class=\"dataframe\">\n",
       "  <thead>\n",
       "    <tr style=\"text-align: right;\">\n",
       "      <th></th>\n",
       "      <th>PassengerId</th>\n",
       "      <th>Survived</th>\n",
       "      <th>Pclass</th>\n",
       "      <th>Name</th>\n",
       "      <th>Sex</th>\n",
       "      <th>Age</th>\n",
       "      <th>SibSp</th>\n",
       "      <th>Parch</th>\n",
       "      <th>Ticket</th>\n",
       "      <th>Fare</th>\n",
       "      <th>Cabin</th>\n",
       "      <th>Embarked</th>\n",
       "    </tr>\n",
       "  </thead>\n",
       "  <tbody>\n",
       "    <tr>\n",
       "      <th>1</th>\n",
       "      <td>2</td>\n",
       "      <td>1</td>\n",
       "      <td>1</td>\n",
       "      <td>Cumings, Mrs. John Bradley (Florence Briggs Th...</td>\n",
       "      <td>female</td>\n",
       "      <td>38.0</td>\n",
       "      <td>1</td>\n",
       "      <td>0</td>\n",
       "      <td>PC 17599</td>\n",
       "      <td>71.2833</td>\n",
       "      <td>C85</td>\n",
       "      <td>C</td>\n",
       "    </tr>\n",
       "    <tr>\n",
       "      <th>2</th>\n",
       "      <td>3</td>\n",
       "      <td>1</td>\n",
       "      <td>3</td>\n",
       "      <td>Heikkinen, Miss. Laina</td>\n",
       "      <td>female</td>\n",
       "      <td>26.0</td>\n",
       "      <td>0</td>\n",
       "      <td>0</td>\n",
       "      <td>STON/O2. 3101282</td>\n",
       "      <td>7.9250</td>\n",
       "      <td>NaN</td>\n",
       "      <td>S</td>\n",
       "    </tr>\n",
       "    <tr>\n",
       "      <th>3</th>\n",
       "      <td>4</td>\n",
       "      <td>1</td>\n",
       "      <td>1</td>\n",
       "      <td>Futrelle, Mrs. Jacques Heath (Lily May Peel)</td>\n",
       "      <td>female</td>\n",
       "      <td>35.0</td>\n",
       "      <td>1</td>\n",
       "      <td>0</td>\n",
       "      <td>113803</td>\n",
       "      <td>53.1000</td>\n",
       "      <td>C123</td>\n",
       "      <td>S</td>\n",
       "    </tr>\n",
       "  </tbody>\n",
       "</table>\n",
       "</div>"
      ],
      "text/plain": [
       "   PassengerId  Survived  Pclass  \\\n",
       "1            2         1       1   \n",
       "2            3         1       3   \n",
       "3            4         1       1   \n",
       "\n",
       "                                                Name     Sex   Age  SibSp  \\\n",
       "1  Cumings, Mrs. John Bradley (Florence Briggs Th...  female  38.0      1   \n",
       "2                             Heikkinen, Miss. Laina  female  26.0      0   \n",
       "3       Futrelle, Mrs. Jacques Heath (Lily May Peel)  female  35.0      1   \n",
       "\n",
       "   Parch            Ticket     Fare Cabin Embarked  \n",
       "1      0          PC 17599  71.2833   C85        C  \n",
       "2      0  STON/O2. 3101282   7.9250   NaN        S  \n",
       "3      0            113803  53.1000  C123        S  "
      ]
     },
     "execution_count": 24,
     "metadata": {},
     "output_type": "execute_result"
    }
   ],
   "source": [
    "df = pd.DataFrame(data, index = [1,2,3])\n",
    "df.head()"
   ]
  },
  {
   "cell_type": "code",
   "execution_count": 38,
   "metadata": {
    "scrolled": true
   },
   "outputs": [
    {
     "data": {
      "text/plain": [
       "(3, 12)"
      ]
     },
     "execution_count": 38,
     "metadata": {},
     "output_type": "execute_result"
    }
   ],
   "source": [
    "df.shape"
   ]
  },
  {
   "cell_type": "code",
   "execution_count": 42,
   "metadata": {},
   "outputs": [
    {
     "data": {
      "text/plain": [
       "[2, 3, 4]"
      ]
     },
     "execution_count": 42,
     "metadata": {},
     "output_type": "execute_result"
    }
   ],
   "source": [
    "df['PassengerId'].to_list()"
   ]
  },
  {
   "cell_type": "code",
   "execution_count": 29,
   "metadata": {},
   "outputs": [
    {
     "data": {
      "text/plain": [
       "PassengerId    False\n",
       "Survived       False\n",
       "Pclass         False\n",
       "Name           False\n",
       "Sex            False\n",
       "Age            False\n",
       "SibSp          False\n",
       "Parch          False\n",
       "Ticket         False\n",
       "Fare           False\n",
       "Cabin           True\n",
       "Embarked       False\n",
       "dtype: bool"
      ]
     },
     "execution_count": 29,
     "metadata": {},
     "output_type": "execute_result"
    }
   ],
   "source": [
    "df.isnull().any()"
   ]
  },
  {
   "cell_type": "code",
   "execution_count": 44,
   "metadata": {},
   "outputs": [
    {
     "data": {
      "text/plain": [
       "PassengerId    0\n",
       "Survived       0\n",
       "Pclass         0\n",
       "Name           0\n",
       "Sex            0\n",
       "Age            0\n",
       "SibSp          0\n",
       "Parch          0\n",
       "Ticket         0\n",
       "Fare           0\n",
       "Cabin          1\n",
       "Embarked       0\n",
       "dtype: int64"
      ]
     },
     "execution_count": 44,
     "metadata": {},
     "output_type": "execute_result"
    }
   ],
   "source": [
    "df.isnull().sum()"
   ]
  },
  {
   "cell_type": "code",
   "execution_count": 30,
   "metadata": {},
   "outputs": [
    {
     "data": {
      "text/plain": [
       "PassengerId      int64\n",
       "Survived         int64\n",
       "Pclass           int64\n",
       "Name            object\n",
       "Sex             object\n",
       "Age            float64\n",
       "SibSp            int64\n",
       "Parch            int64\n",
       "Ticket          object\n",
       "Fare           float64\n",
       "Cabin           object\n",
       "Embarked        object\n",
       "dtype: object"
      ]
     },
     "execution_count": 30,
     "metadata": {},
     "output_type": "execute_result"
    }
   ],
   "source": [
    "df.dtypes"
   ]
  },
  {
   "cell_type": "code",
   "execution_count": 31,
   "metadata": {},
   "outputs": [
    {
     "name": "stdout",
     "output_type": "stream",
     "text": [
      "<class 'pandas.core.frame.DataFrame'>\n",
      "Int64Index: 3 entries, 1 to 3\n",
      "Data columns (total 12 columns):\n",
      " #   Column       Non-Null Count  Dtype  \n",
      "---  ------       --------------  -----  \n",
      " 0   PassengerId  3 non-null      int64  \n",
      " 1   Survived     3 non-null      int64  \n",
      " 2   Pclass       3 non-null      int64  \n",
      " 3   Name         3 non-null      object \n",
      " 4   Sex          3 non-null      object \n",
      " 5   Age          3 non-null      float64\n",
      " 6   SibSp        3 non-null      int64  \n",
      " 7   Parch        3 non-null      int64  \n",
      " 8   Ticket       3 non-null      object \n",
      " 9   Fare         3 non-null      float64\n",
      " 10  Cabin        2 non-null      object \n",
      " 11  Embarked     3 non-null      object \n",
      "dtypes: float64(2), int64(5), object(5)\n",
      "memory usage: 312.0+ bytes\n"
     ]
    }
   ],
   "source": [
    "df.info()"
   ]
  },
  {
   "cell_type": "code",
   "execution_count": 32,
   "metadata": {},
   "outputs": [
    {
     "data": {
      "text/html": [
       "<div>\n",
       "<style scoped>\n",
       "    .dataframe tbody tr th:only-of-type {\n",
       "        vertical-align: middle;\n",
       "    }\n",
       "\n",
       "    .dataframe tbody tr th {\n",
       "        vertical-align: top;\n",
       "    }\n",
       "\n",
       "    .dataframe thead th {\n",
       "        text-align: right;\n",
       "    }\n",
       "</style>\n",
       "<table border=\"1\" class=\"dataframe\">\n",
       "  <thead>\n",
       "    <tr style=\"text-align: right;\">\n",
       "      <th></th>\n",
       "      <th>PassengerId</th>\n",
       "      <th>Survived</th>\n",
       "      <th>Pclass</th>\n",
       "      <th>Age</th>\n",
       "      <th>SibSp</th>\n",
       "      <th>Parch</th>\n",
       "      <th>Fare</th>\n",
       "    </tr>\n",
       "  </thead>\n",
       "  <tbody>\n",
       "    <tr>\n",
       "      <th>count</th>\n",
       "      <td>3.0</td>\n",
       "      <td>3.0</td>\n",
       "      <td>3.000000</td>\n",
       "      <td>3.000000</td>\n",
       "      <td>3.000000</td>\n",
       "      <td>3.0</td>\n",
       "      <td>3.000000</td>\n",
       "    </tr>\n",
       "    <tr>\n",
       "      <th>mean</th>\n",
       "      <td>3.0</td>\n",
       "      <td>1.0</td>\n",
       "      <td>1.666667</td>\n",
       "      <td>33.000000</td>\n",
       "      <td>0.666667</td>\n",
       "      <td>0.0</td>\n",
       "      <td>44.102767</td>\n",
       "    </tr>\n",
       "    <tr>\n",
       "      <th>std</th>\n",
       "      <td>1.0</td>\n",
       "      <td>0.0</td>\n",
       "      <td>1.154701</td>\n",
       "      <td>6.244998</td>\n",
       "      <td>0.577350</td>\n",
       "      <td>0.0</td>\n",
       "      <td>32.623323</td>\n",
       "    </tr>\n",
       "    <tr>\n",
       "      <th>min</th>\n",
       "      <td>2.0</td>\n",
       "      <td>1.0</td>\n",
       "      <td>1.000000</td>\n",
       "      <td>26.000000</td>\n",
       "      <td>0.000000</td>\n",
       "      <td>0.0</td>\n",
       "      <td>7.925000</td>\n",
       "    </tr>\n",
       "    <tr>\n",
       "      <th>25%</th>\n",
       "      <td>2.5</td>\n",
       "      <td>1.0</td>\n",
       "      <td>1.000000</td>\n",
       "      <td>30.500000</td>\n",
       "      <td>0.500000</td>\n",
       "      <td>0.0</td>\n",
       "      <td>30.512500</td>\n",
       "    </tr>\n",
       "    <tr>\n",
       "      <th>50%</th>\n",
       "      <td>3.0</td>\n",
       "      <td>1.0</td>\n",
       "      <td>1.000000</td>\n",
       "      <td>35.000000</td>\n",
       "      <td>1.000000</td>\n",
       "      <td>0.0</td>\n",
       "      <td>53.100000</td>\n",
       "    </tr>\n",
       "    <tr>\n",
       "      <th>75%</th>\n",
       "      <td>3.5</td>\n",
       "      <td>1.0</td>\n",
       "      <td>2.000000</td>\n",
       "      <td>36.500000</td>\n",
       "      <td>1.000000</td>\n",
       "      <td>0.0</td>\n",
       "      <td>62.191650</td>\n",
       "    </tr>\n",
       "    <tr>\n",
       "      <th>max</th>\n",
       "      <td>4.0</td>\n",
       "      <td>1.0</td>\n",
       "      <td>3.000000</td>\n",
       "      <td>38.000000</td>\n",
       "      <td>1.000000</td>\n",
       "      <td>0.0</td>\n",
       "      <td>71.283300</td>\n",
       "    </tr>\n",
       "  </tbody>\n",
       "</table>\n",
       "</div>"
      ],
      "text/plain": [
       "       PassengerId  Survived    Pclass        Age     SibSp  Parch       Fare\n",
       "count          3.0       3.0  3.000000   3.000000  3.000000    3.0   3.000000\n",
       "mean           3.0       1.0  1.666667  33.000000  0.666667    0.0  44.102767\n",
       "std            1.0       0.0  1.154701   6.244998  0.577350    0.0  32.623323\n",
       "min            2.0       1.0  1.000000  26.000000  0.000000    0.0   7.925000\n",
       "25%            2.5       1.0  1.000000  30.500000  0.500000    0.0  30.512500\n",
       "50%            3.0       1.0  1.000000  35.000000  1.000000    0.0  53.100000\n",
       "75%            3.5       1.0  2.000000  36.500000  1.000000    0.0  62.191650\n",
       "max            4.0       1.0  3.000000  38.000000  1.000000    0.0  71.283300"
      ]
     },
     "execution_count": 32,
     "metadata": {},
     "output_type": "execute_result"
    }
   ],
   "source": [
    "df.describe()"
   ]
  },
  {
   "cell_type": "code",
   "execution_count": 36,
   "metadata": {},
   "outputs": [
    {
     "data": {
      "text/html": [
       "<div>\n",
       "<style scoped>\n",
       "    .dataframe tbody tr th:only-of-type {\n",
       "        vertical-align: middle;\n",
       "    }\n",
       "\n",
       "    .dataframe tbody tr th {\n",
       "        vertical-align: top;\n",
       "    }\n",
       "\n",
       "    .dataframe thead th {\n",
       "        text-align: right;\n",
       "    }\n",
       "</style>\n",
       "<table border=\"1\" class=\"dataframe\">\n",
       "  <thead>\n",
       "    <tr style=\"text-align: right;\">\n",
       "      <th></th>\n",
       "      <th>PassengerId</th>\n",
       "      <th>Survived</th>\n",
       "      <th>Pclass</th>\n",
       "      <th>Age</th>\n",
       "      <th>SibSp</th>\n",
       "      <th>Parch</th>\n",
       "      <th>Fare</th>\n",
       "    </tr>\n",
       "  </thead>\n",
       "  <tbody>\n",
       "    <tr>\n",
       "      <th>PassengerId</th>\n",
       "      <td>1.000000</td>\n",
       "      <td>NaN</td>\n",
       "      <td>0.000000</td>\n",
       "      <td>-0.240192</td>\n",
       "      <td>0.000000</td>\n",
       "      <td>NaN</td>\n",
       "      <td>-0.278686</td>\n",
       "    </tr>\n",
       "    <tr>\n",
       "      <th>Survived</th>\n",
       "      <td>NaN</td>\n",
       "      <td>NaN</td>\n",
       "      <td>NaN</td>\n",
       "      <td>NaN</td>\n",
       "      <td>NaN</td>\n",
       "      <td>NaN</td>\n",
       "      <td>NaN</td>\n",
       "    </tr>\n",
       "    <tr>\n",
       "      <th>Pclass</th>\n",
       "      <td>0.000000</td>\n",
       "      <td>NaN</td>\n",
       "      <td>1.000000</td>\n",
       "      <td>-0.970725</td>\n",
       "      <td>-1.000000</td>\n",
       "      <td>NaN</td>\n",
       "      <td>-0.960382</td>\n",
       "    </tr>\n",
       "    <tr>\n",
       "      <th>Age</th>\n",
       "      <td>-0.240192</td>\n",
       "      <td>NaN</td>\n",
       "      <td>-0.970725</td>\n",
       "      <td>1.000000</td>\n",
       "      <td>0.970725</td>\n",
       "      <td>NaN</td>\n",
       "      <td>0.999206</td>\n",
       "    </tr>\n",
       "    <tr>\n",
       "      <th>SibSp</th>\n",
       "      <td>0.000000</td>\n",
       "      <td>NaN</td>\n",
       "      <td>-1.000000</td>\n",
       "      <td>0.970725</td>\n",
       "      <td>1.000000</td>\n",
       "      <td>NaN</td>\n",
       "      <td>0.960382</td>\n",
       "    </tr>\n",
       "    <tr>\n",
       "      <th>Parch</th>\n",
       "      <td>NaN</td>\n",
       "      <td>NaN</td>\n",
       "      <td>NaN</td>\n",
       "      <td>NaN</td>\n",
       "      <td>NaN</td>\n",
       "      <td>NaN</td>\n",
       "      <td>NaN</td>\n",
       "    </tr>\n",
       "    <tr>\n",
       "      <th>Fare</th>\n",
       "      <td>-0.278686</td>\n",
       "      <td>NaN</td>\n",
       "      <td>-0.960382</td>\n",
       "      <td>0.999206</td>\n",
       "      <td>0.960382</td>\n",
       "      <td>NaN</td>\n",
       "      <td>1.000000</td>\n",
       "    </tr>\n",
       "  </tbody>\n",
       "</table>\n",
       "</div>"
      ],
      "text/plain": [
       "             PassengerId  Survived    Pclass       Age     SibSp  Parch  \\\n",
       "PassengerId     1.000000       NaN  0.000000 -0.240192  0.000000    NaN   \n",
       "Survived             NaN       NaN       NaN       NaN       NaN    NaN   \n",
       "Pclass          0.000000       NaN  1.000000 -0.970725 -1.000000    NaN   \n",
       "Age            -0.240192       NaN -0.970725  1.000000  0.970725    NaN   \n",
       "SibSp           0.000000       NaN -1.000000  0.970725  1.000000    NaN   \n",
       "Parch                NaN       NaN       NaN       NaN       NaN    NaN   \n",
       "Fare           -0.278686       NaN -0.960382  0.999206  0.960382    NaN   \n",
       "\n",
       "                 Fare  \n",
       "PassengerId -0.278686  \n",
       "Survived          NaN  \n",
       "Pclass      -0.960382  \n",
       "Age          0.999206  \n",
       "SibSp        0.960382  \n",
       "Parch             NaN  \n",
       "Fare         1.000000  "
      ]
     },
     "execution_count": 36,
     "metadata": {},
     "output_type": "execute_result"
    }
   ],
   "source": [
    "df.corr()"
   ]
  },
  {
   "cell_type": "code",
   "execution_count": 37,
   "metadata": {},
   "outputs": [
    {
     "name": "stderr",
     "output_type": "stream",
     "text": [
      "F:\\Anaconda\\lib\\site-packages\\pandas\\io\\formats\\style.py:1126: RuntimeWarning: All-NaN slice encountered\n",
      "  smin = np.nanmin(s.to_numpy()) if vmin is None else vmin\n",
      "F:\\Anaconda\\lib\\site-packages\\pandas\\io\\formats\\style.py:1127: RuntimeWarning: All-NaN slice encountered\n",
      "  smax = np.nanmax(s.to_numpy()) if vmax is None else vmax\n"
     ]
    },
    {
     "data": {
      "text/html": [
       "<style  type=\"text/css\" >\n",
       "#T_205d1666_d3f8_11eb_9516_98af65c0b376row0_col0,#T_205d1666_d3f8_11eb_9516_98af65c0b376row0_col1,#T_205d1666_d3f8_11eb_9516_98af65c0b376row0_col5,#T_205d1666_d3f8_11eb_9516_98af65c0b376row1_col0,#T_205d1666_d3f8_11eb_9516_98af65c0b376row1_col1,#T_205d1666_d3f8_11eb_9516_98af65c0b376row1_col2,#T_205d1666_d3f8_11eb_9516_98af65c0b376row1_col3,#T_205d1666_d3f8_11eb_9516_98af65c0b376row1_col4,#T_205d1666_d3f8_11eb_9516_98af65c0b376row1_col5,#T_205d1666_d3f8_11eb_9516_98af65c0b376row1_col6,#T_205d1666_d3f8_11eb_9516_98af65c0b376row2_col1,#T_205d1666_d3f8_11eb_9516_98af65c0b376row2_col2,#T_205d1666_d3f8_11eb_9516_98af65c0b376row2_col5,#T_205d1666_d3f8_11eb_9516_98af65c0b376row3_col1,#T_205d1666_d3f8_11eb_9516_98af65c0b376row3_col3,#T_205d1666_d3f8_11eb_9516_98af65c0b376row3_col5,#T_205d1666_d3f8_11eb_9516_98af65c0b376row3_col6,#T_205d1666_d3f8_11eb_9516_98af65c0b376row4_col1,#T_205d1666_d3f8_11eb_9516_98af65c0b376row4_col4,#T_205d1666_d3f8_11eb_9516_98af65c0b376row4_col5,#T_205d1666_d3f8_11eb_9516_98af65c0b376row5_col0,#T_205d1666_d3f8_11eb_9516_98af65c0b376row5_col1,#T_205d1666_d3f8_11eb_9516_98af65c0b376row5_col2,#T_205d1666_d3f8_11eb_9516_98af65c0b376row5_col3,#T_205d1666_d3f8_11eb_9516_98af65c0b376row5_col4,#T_205d1666_d3f8_11eb_9516_98af65c0b376row5_col5,#T_205d1666_d3f8_11eb_9516_98af65c0b376row5_col6,#T_205d1666_d3f8_11eb_9516_98af65c0b376row6_col1,#T_205d1666_d3f8_11eb_9516_98af65c0b376row6_col3,#T_205d1666_d3f8_11eb_9516_98af65c0b376row6_col5,#T_205d1666_d3f8_11eb_9516_98af65c0b376row6_col6{\n",
       "            background-color:  #000000;\n",
       "            color:  #f1f1f1;\n",
       "        }#T_205d1666_d3f8_11eb_9516_98af65c0b376row0_col2,#T_205d1666_d3f8_11eb_9516_98af65c0b376row0_col4{\n",
       "            background-color:  #959595;\n",
       "            color:  #000000;\n",
       "        }#T_205d1666_d3f8_11eb_9516_98af65c0b376row0_col3{\n",
       "            background-color:  #bebebe;\n",
       "            color:  #000000;\n",
       "        }#T_205d1666_d3f8_11eb_9516_98af65c0b376row0_col6{\n",
       "            background-color:  #c3c3c3;\n",
       "            color:  #000000;\n",
       "        }#T_205d1666_d3f8_11eb_9516_98af65c0b376row2_col0,#T_205d1666_d3f8_11eb_9516_98af65c0b376row4_col0{\n",
       "            background-color:  #dfdfdf;\n",
       "            color:  #000000;\n",
       "        }#T_205d1666_d3f8_11eb_9516_98af65c0b376row2_col3,#T_205d1666_d3f8_11eb_9516_98af65c0b376row2_col4,#T_205d1666_d3f8_11eb_9516_98af65c0b376row2_col6,#T_205d1666_d3f8_11eb_9516_98af65c0b376row4_col2,#T_205d1666_d3f8_11eb_9516_98af65c0b376row6_col0{\n",
       "            background-color:  #ffffff;\n",
       "            color:  #000000;\n",
       "        }#T_205d1666_d3f8_11eb_9516_98af65c0b376row3_col0{\n",
       "            background-color:  #fcfcfc;\n",
       "            color:  #000000;\n",
       "        }#T_205d1666_d3f8_11eb_9516_98af65c0b376row3_col2{\n",
       "            background-color:  #fefefe;\n",
       "            color:  #000000;\n",
       "        }#T_205d1666_d3f8_11eb_9516_98af65c0b376row3_col4,#T_205d1666_d3f8_11eb_9516_98af65c0b376row4_col3{\n",
       "            background-color:  #030303;\n",
       "            color:  #f1f1f1;\n",
       "        }#T_205d1666_d3f8_11eb_9516_98af65c0b376row4_col6,#T_205d1666_d3f8_11eb_9516_98af65c0b376row6_col4{\n",
       "            background-color:  #060606;\n",
       "            color:  #f1f1f1;\n",
       "        }#T_205d1666_d3f8_11eb_9516_98af65c0b376row6_col2{\n",
       "            background-color:  #fdfdfd;\n",
       "            color:  #000000;\n",
       "        }</style><table id=\"T_205d1666_d3f8_11eb_9516_98af65c0b376\" ><thead>    <tr>        <th class=\"blank level0\" ></th>        <th class=\"col_heading level0 col0\" >PassengerId</th>        <th class=\"col_heading level0 col1\" >Survived</th>        <th class=\"col_heading level0 col2\" >Pclass</th>        <th class=\"col_heading level0 col3\" >Age</th>        <th class=\"col_heading level0 col4\" >SibSp</th>        <th class=\"col_heading level0 col5\" >Parch</th>        <th class=\"col_heading level0 col6\" >Fare</th>    </tr></thead><tbody>\n",
       "                <tr>\n",
       "                        <th id=\"T_205d1666_d3f8_11eb_9516_98af65c0b376level0_row0\" class=\"row_heading level0 row0\" >PassengerId</th>\n",
       "                        <td id=\"T_205d1666_d3f8_11eb_9516_98af65c0b376row0_col0\" class=\"data row0 col0\" >1.000000</td>\n",
       "                        <td id=\"T_205d1666_d3f8_11eb_9516_98af65c0b376row0_col1\" class=\"data row0 col1\" >nan</td>\n",
       "                        <td id=\"T_205d1666_d3f8_11eb_9516_98af65c0b376row0_col2\" class=\"data row0 col2\" >0.000000</td>\n",
       "                        <td id=\"T_205d1666_d3f8_11eb_9516_98af65c0b376row0_col3\" class=\"data row0 col3\" >-0.240192</td>\n",
       "                        <td id=\"T_205d1666_d3f8_11eb_9516_98af65c0b376row0_col4\" class=\"data row0 col4\" >0.000000</td>\n",
       "                        <td id=\"T_205d1666_d3f8_11eb_9516_98af65c0b376row0_col5\" class=\"data row0 col5\" >nan</td>\n",
       "                        <td id=\"T_205d1666_d3f8_11eb_9516_98af65c0b376row0_col6\" class=\"data row0 col6\" >-0.278686</td>\n",
       "            </tr>\n",
       "            <tr>\n",
       "                        <th id=\"T_205d1666_d3f8_11eb_9516_98af65c0b376level0_row1\" class=\"row_heading level0 row1\" >Survived</th>\n",
       "                        <td id=\"T_205d1666_d3f8_11eb_9516_98af65c0b376row1_col0\" class=\"data row1 col0\" >nan</td>\n",
       "                        <td id=\"T_205d1666_d3f8_11eb_9516_98af65c0b376row1_col1\" class=\"data row1 col1\" >nan</td>\n",
       "                        <td id=\"T_205d1666_d3f8_11eb_9516_98af65c0b376row1_col2\" class=\"data row1 col2\" >nan</td>\n",
       "                        <td id=\"T_205d1666_d3f8_11eb_9516_98af65c0b376row1_col3\" class=\"data row1 col3\" >nan</td>\n",
       "                        <td id=\"T_205d1666_d3f8_11eb_9516_98af65c0b376row1_col4\" class=\"data row1 col4\" >nan</td>\n",
       "                        <td id=\"T_205d1666_d3f8_11eb_9516_98af65c0b376row1_col5\" class=\"data row1 col5\" >nan</td>\n",
       "                        <td id=\"T_205d1666_d3f8_11eb_9516_98af65c0b376row1_col6\" class=\"data row1 col6\" >nan</td>\n",
       "            </tr>\n",
       "            <tr>\n",
       "                        <th id=\"T_205d1666_d3f8_11eb_9516_98af65c0b376level0_row2\" class=\"row_heading level0 row2\" >Pclass</th>\n",
       "                        <td id=\"T_205d1666_d3f8_11eb_9516_98af65c0b376row2_col0\" class=\"data row2 col0\" >0.000000</td>\n",
       "                        <td id=\"T_205d1666_d3f8_11eb_9516_98af65c0b376row2_col1\" class=\"data row2 col1\" >nan</td>\n",
       "                        <td id=\"T_205d1666_d3f8_11eb_9516_98af65c0b376row2_col2\" class=\"data row2 col2\" >1.000000</td>\n",
       "                        <td id=\"T_205d1666_d3f8_11eb_9516_98af65c0b376row2_col3\" class=\"data row2 col3\" >-0.970725</td>\n",
       "                        <td id=\"T_205d1666_d3f8_11eb_9516_98af65c0b376row2_col4\" class=\"data row2 col4\" >-1.000000</td>\n",
       "                        <td id=\"T_205d1666_d3f8_11eb_9516_98af65c0b376row2_col5\" class=\"data row2 col5\" >nan</td>\n",
       "                        <td id=\"T_205d1666_d3f8_11eb_9516_98af65c0b376row2_col6\" class=\"data row2 col6\" >-0.960382</td>\n",
       "            </tr>\n",
       "            <tr>\n",
       "                        <th id=\"T_205d1666_d3f8_11eb_9516_98af65c0b376level0_row3\" class=\"row_heading level0 row3\" >Age</th>\n",
       "                        <td id=\"T_205d1666_d3f8_11eb_9516_98af65c0b376row3_col0\" class=\"data row3 col0\" >-0.240192</td>\n",
       "                        <td id=\"T_205d1666_d3f8_11eb_9516_98af65c0b376row3_col1\" class=\"data row3 col1\" >nan</td>\n",
       "                        <td id=\"T_205d1666_d3f8_11eb_9516_98af65c0b376row3_col2\" class=\"data row3 col2\" >-0.970725</td>\n",
       "                        <td id=\"T_205d1666_d3f8_11eb_9516_98af65c0b376row3_col3\" class=\"data row3 col3\" >1.000000</td>\n",
       "                        <td id=\"T_205d1666_d3f8_11eb_9516_98af65c0b376row3_col4\" class=\"data row3 col4\" >0.970725</td>\n",
       "                        <td id=\"T_205d1666_d3f8_11eb_9516_98af65c0b376row3_col5\" class=\"data row3 col5\" >nan</td>\n",
       "                        <td id=\"T_205d1666_d3f8_11eb_9516_98af65c0b376row3_col6\" class=\"data row3 col6\" >0.999206</td>\n",
       "            </tr>\n",
       "            <tr>\n",
       "                        <th id=\"T_205d1666_d3f8_11eb_9516_98af65c0b376level0_row4\" class=\"row_heading level0 row4\" >SibSp</th>\n",
       "                        <td id=\"T_205d1666_d3f8_11eb_9516_98af65c0b376row4_col0\" class=\"data row4 col0\" >0.000000</td>\n",
       "                        <td id=\"T_205d1666_d3f8_11eb_9516_98af65c0b376row4_col1\" class=\"data row4 col1\" >nan</td>\n",
       "                        <td id=\"T_205d1666_d3f8_11eb_9516_98af65c0b376row4_col2\" class=\"data row4 col2\" >-1.000000</td>\n",
       "                        <td id=\"T_205d1666_d3f8_11eb_9516_98af65c0b376row4_col3\" class=\"data row4 col3\" >0.970725</td>\n",
       "                        <td id=\"T_205d1666_d3f8_11eb_9516_98af65c0b376row4_col4\" class=\"data row4 col4\" >1.000000</td>\n",
       "                        <td id=\"T_205d1666_d3f8_11eb_9516_98af65c0b376row4_col5\" class=\"data row4 col5\" >nan</td>\n",
       "                        <td id=\"T_205d1666_d3f8_11eb_9516_98af65c0b376row4_col6\" class=\"data row4 col6\" >0.960382</td>\n",
       "            </tr>\n",
       "            <tr>\n",
       "                        <th id=\"T_205d1666_d3f8_11eb_9516_98af65c0b376level0_row5\" class=\"row_heading level0 row5\" >Parch</th>\n",
       "                        <td id=\"T_205d1666_d3f8_11eb_9516_98af65c0b376row5_col0\" class=\"data row5 col0\" >nan</td>\n",
       "                        <td id=\"T_205d1666_d3f8_11eb_9516_98af65c0b376row5_col1\" class=\"data row5 col1\" >nan</td>\n",
       "                        <td id=\"T_205d1666_d3f8_11eb_9516_98af65c0b376row5_col2\" class=\"data row5 col2\" >nan</td>\n",
       "                        <td id=\"T_205d1666_d3f8_11eb_9516_98af65c0b376row5_col3\" class=\"data row5 col3\" >nan</td>\n",
       "                        <td id=\"T_205d1666_d3f8_11eb_9516_98af65c0b376row5_col4\" class=\"data row5 col4\" >nan</td>\n",
       "                        <td id=\"T_205d1666_d3f8_11eb_9516_98af65c0b376row5_col5\" class=\"data row5 col5\" >nan</td>\n",
       "                        <td id=\"T_205d1666_d3f8_11eb_9516_98af65c0b376row5_col6\" class=\"data row5 col6\" >nan</td>\n",
       "            </tr>\n",
       "            <tr>\n",
       "                        <th id=\"T_205d1666_d3f8_11eb_9516_98af65c0b376level0_row6\" class=\"row_heading level0 row6\" >Fare</th>\n",
       "                        <td id=\"T_205d1666_d3f8_11eb_9516_98af65c0b376row6_col0\" class=\"data row6 col0\" >-0.278686</td>\n",
       "                        <td id=\"T_205d1666_d3f8_11eb_9516_98af65c0b376row6_col1\" class=\"data row6 col1\" >nan</td>\n",
       "                        <td id=\"T_205d1666_d3f8_11eb_9516_98af65c0b376row6_col2\" class=\"data row6 col2\" >-0.960382</td>\n",
       "                        <td id=\"T_205d1666_d3f8_11eb_9516_98af65c0b376row6_col3\" class=\"data row6 col3\" >0.999206</td>\n",
       "                        <td id=\"T_205d1666_d3f8_11eb_9516_98af65c0b376row6_col4\" class=\"data row6 col4\" >0.960382</td>\n",
       "                        <td id=\"T_205d1666_d3f8_11eb_9516_98af65c0b376row6_col5\" class=\"data row6 col5\" >nan</td>\n",
       "                        <td id=\"T_205d1666_d3f8_11eb_9516_98af65c0b376row6_col6\" class=\"data row6 col6\" >1.000000</td>\n",
       "            </tr>\n",
       "    </tbody></table>"
      ],
      "text/plain": [
       "<pandas.io.formats.style.Styler at 0x20306fbb640>"
      ]
     },
     "execution_count": 37,
     "metadata": {},
     "output_type": "execute_result"
    }
   ],
   "source": [
    "relation = df.corr()\n",
    "relation.style.background_gradient(cmap='Greys')"
   ]
  },
  {
   "cell_type": "code",
   "execution_count": 33,
   "metadata": {},
   "outputs": [
    {
     "data": {
      "text/plain": [
       "<AxesSubplot:>"
      ]
     },
     "execution_count": 33,
     "metadata": {},
     "output_type": "execute_result"
    },
    {
     "data": {
      "image/png": "[encoded data removed]",
      "text/plain": [
       "<Figure size 432x288 with 1 Axes>"
      ]
     },
     "metadata": {
      "needs_background": "light"
     },
     "output_type": "display_data"
    }
   ],
   "source": [
    "df.plot()"
   ]
  },
  {
   "cell_type": "markdown",
   "metadata": {},
   "source": [
    "# Conclusion:"
   ]
  },
  {
   "cell_type": "markdown",
   "metadata": {},
   "source": [
    "* Less than half of the total number of passengers survived.\n",
    "***\n",
    "* Out of 577 male passengers only 109 survived.\n",
    "***\n",
    "* Only 233 female passengers survived out of 314 aboard.\n",
    "***\n",
    "* Greater number of people survived under the age 40 when compared to the rest."
   ]
  }
 ],
 "metadata": {
  "kernelspec": {
   "display_name": "Python 3",
   "language": "python",
   "name": "python3"
  },
  "language_info": {
   "codemirror_mode": {
    "name": "ipython",
    "version": 3
   },
   "file_extension": ".py",
   "mimetype": "text/x-python",
   "name": "python",
   "nbconvert_exporter": "python",
   "pygments_lexer": "ipython3",
   "version": "3.8.5"
  }
 },
 "nbformat": 4,
 "nbformat_minor": 4
}
